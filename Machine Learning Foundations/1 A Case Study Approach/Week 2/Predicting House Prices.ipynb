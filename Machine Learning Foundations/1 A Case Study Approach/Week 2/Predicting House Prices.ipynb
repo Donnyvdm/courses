{
 "cells": [
  {
   "cell_type": "markdown",
   "metadata": {},
   "source": [
    "# Machine Learning Foundations - A Case Study Approach\n",
    "Week 1 - Demonstration\n",
    "\n",
    "Donny van der Meer\n",
    "\n",
    "## Load data\n",
    "This notebook uses the *cleaned* house price dataset from Fabien Durand as presented on the website of Louis Dorard.\n",
    "\n",
    "It can be found at the bottom of the page here: http://www.louisdorard.com/guest/everyone-can-do-data-science-pandas\n",
    "\n",
    "The dataset contains data scraped from realtor.com for the Las Vegas, Nevada area"
   ]
  },
  {
   "cell_type": "code",
   "execution_count": 192,
   "metadata": {
    "collapsed": false
   },
   "outputs": [],
   "source": [
    "import numpy as np\n",
    "import pandas as pd\n",
    "import matplotlib.pyplot as plt\n",
    "from sklearn.cross_validation import train_test_split\n",
    "from sklearn import linear_model\n",
    "from math import sqrt\n",
    "\n",
    "%matplotlib inline\n",
    "plt.style.use = 'default'"
   ]
  },
  {
   "cell_type": "code",
   "execution_count": 208,
   "metadata": {
    "collapsed": true
   },
   "outputs": [],
   "source": [
    "houses = pd.read_csv(\"realtor_importio_cleaned.csv\").dropna()"
   ]
  },
  {
   "cell_type": "code",
   "execution_count": 209,
   "metadata": {
    "collapsed": false
   },
   "outputs": [
    {
     "data": {
      "text/html": [
       "<div>\n",
       "<table border=\"1\" class=\"dataframe\">\n",
       "  <thead>\n",
       "    <tr style=\"text-align: right;\">\n",
       "      <th></th>\n",
       "      <th>Unnamed: 0</th>\n",
       "      <th>address</th>\n",
       "      <th>bedrooms</th>\n",
       "      <th>full_bathrooms</th>\n",
       "      <th>half_bathrooms</th>\n",
       "      <th>type</th>\n",
       "      <th>size_sqft</th>\n",
       "      <th>lot_size</th>\n",
       "      <th>price</th>\n",
       "    </tr>\n",
       "  </thead>\n",
       "  <tbody>\n",
       "    <tr>\n",
       "      <th>0</th>\n",
       "      <td>5967</td>\n",
       "      <td>6812 Mystic Plain Ct Las Vegas NV 89149</td>\n",
       "      <td>3.0</td>\n",
       "      <td>2.0</td>\n",
       "      <td>1.0</td>\n",
       "      <td>Single Family Home</td>\n",
       "      <td>1992.0</td>\n",
       "      <td>6098.0</td>\n",
       "      <td>220000</td>\n",
       "    </tr>\n",
       "    <tr>\n",
       "      <th>1</th>\n",
       "      <td>800</td>\n",
       "      <td>3416 Goldyke St Las Vegas NV 89115</td>\n",
       "      <td>3.0</td>\n",
       "      <td>2.0</td>\n",
       "      <td>0.0</td>\n",
       "      <td>Mfd/Mobile Home</td>\n",
       "      <td>1782.0</td>\n",
       "      <td>8276.0</td>\n",
       "      <td>60000</td>\n",
       "    </tr>\n",
       "    <tr>\n",
       "      <th>2</th>\n",
       "      <td>498</td>\n",
       "      <td>9222 Cowboy Rain Dr Las Vegas NV 89178</td>\n",
       "      <td>3.0</td>\n",
       "      <td>3.0</td>\n",
       "      <td>1.0</td>\n",
       "      <td>Single Family Home</td>\n",
       "      <td>1864.0</td>\n",
       "      <td>2178.0</td>\n",
       "      <td>173000</td>\n",
       "    </tr>\n",
       "    <tr>\n",
       "      <th>3</th>\n",
       "      <td>7627</td>\n",
       "      <td>845 Trotter Cir Las Vegas NV 89107</td>\n",
       "      <td>5.0</td>\n",
       "      <td>4.0</td>\n",
       "      <td>1.0</td>\n",
       "      <td>Single Family Home</td>\n",
       "      <td>4608.0</td>\n",
       "      <td>15246.0</td>\n",
       "      <td>600000</td>\n",
       "    </tr>\n",
       "    <tr>\n",
       "      <th>4</th>\n",
       "      <td>7772</td>\n",
       "      <td>10914 Iris Canyon Ln Las Vegas NV 89135</td>\n",
       "      <td>4.0</td>\n",
       "      <td>4.0</td>\n",
       "      <td>1.0</td>\n",
       "      <td>Single Family Home</td>\n",
       "      <td>3951.0</td>\n",
       "      <td>13503.6</td>\n",
       "      <td>799000</td>\n",
       "    </tr>\n",
       "  </tbody>\n",
       "</table>\n",
       "</div>"
      ],
      "text/plain": [
       "   Unnamed: 0                                  address  bedrooms  \\\n",
       "0        5967  6812 Mystic Plain Ct Las Vegas NV 89149       3.0   \n",
       "1         800       3416 Goldyke St Las Vegas NV 89115       3.0   \n",
       "2         498   9222 Cowboy Rain Dr Las Vegas NV 89178       3.0   \n",
       "3        7627       845 Trotter Cir Las Vegas NV 89107       5.0   \n",
       "4        7772  10914 Iris Canyon Ln Las Vegas NV 89135       4.0   \n",
       "\n",
       "   full_bathrooms  half_bathrooms                type  size_sqft  lot_size  \\\n",
       "0             2.0             1.0  Single Family Home     1992.0    6098.0   \n",
       "1             2.0             0.0     Mfd/Mobile Home     1782.0    8276.0   \n",
       "2             3.0             1.0  Single Family Home     1864.0    2178.0   \n",
       "3             4.0             1.0  Single Family Home     4608.0   15246.0   \n",
       "4             4.0             1.0  Single Family Home     3951.0   13503.6   \n",
       "\n",
       "    price  \n",
       "0  220000  \n",
       "1   60000  \n",
       "2  173000  \n",
       "3  600000  \n",
       "4  799000  "
      ]
     },
     "execution_count": 209,
     "metadata": {},
     "output_type": "execute_result"
    }
   ],
   "source": [
    "houses.head()"
   ]
  },
  {
   "cell_type": "code",
   "execution_count": 210,
   "metadata": {
    "collapsed": false
   },
   "outputs": [
    {
     "data": {
      "text/plain": [
       "4058"
      ]
     },
     "execution_count": 210,
     "metadata": {},
     "output_type": "execute_result"
    }
   ],
   "source": [
    "len(houses)"
   ]
  },
  {
   "cell_type": "code",
   "execution_count": 212,
   "metadata": {
    "collapsed": true
   },
   "outputs": [],
   "source": [
    "houses.drop(houses.columns[0], axis = 1, inplace = True) # Just remove the column with IDs"
   ]
  },
  {
   "cell_type": "code",
   "execution_count": 213,
   "metadata": {
    "collapsed": false
   },
   "outputs": [
    {
     "data": {
      "text/html": [
       "<div>\n",
       "<table border=\"1\" class=\"dataframe\">\n",
       "  <thead>\n",
       "    <tr style=\"text-align: right;\">\n",
       "      <th></th>\n",
       "      <th>bedrooms</th>\n",
       "      <th>full_bathrooms</th>\n",
       "      <th>half_bathrooms</th>\n",
       "      <th>type</th>\n",
       "      <th>size_sqft</th>\n",
       "      <th>lot_size</th>\n",
       "      <th>price</th>\n",
       "    </tr>\n",
       "  </thead>\n",
       "  <tbody>\n",
       "    <tr>\n",
       "      <th>0</th>\n",
       "      <td>3.0</td>\n",
       "      <td>2.0</td>\n",
       "      <td>1.0</td>\n",
       "      <td>Single Family Home</td>\n",
       "      <td>1992.0</td>\n",
       "      <td>6098.0</td>\n",
       "      <td>220000</td>\n",
       "    </tr>\n",
       "    <tr>\n",
       "      <th>1</th>\n",
       "      <td>3.0</td>\n",
       "      <td>2.0</td>\n",
       "      <td>0.0</td>\n",
       "      <td>Mfd/Mobile Home</td>\n",
       "      <td>1782.0</td>\n",
       "      <td>8276.0</td>\n",
       "      <td>60000</td>\n",
       "    </tr>\n",
       "    <tr>\n",
       "      <th>2</th>\n",
       "      <td>3.0</td>\n",
       "      <td>3.0</td>\n",
       "      <td>1.0</td>\n",
       "      <td>Single Family Home</td>\n",
       "      <td>1864.0</td>\n",
       "      <td>2178.0</td>\n",
       "      <td>173000</td>\n",
       "    </tr>\n",
       "    <tr>\n",
       "      <th>3</th>\n",
       "      <td>5.0</td>\n",
       "      <td>4.0</td>\n",
       "      <td>1.0</td>\n",
       "      <td>Single Family Home</td>\n",
       "      <td>4608.0</td>\n",
       "      <td>15246.0</td>\n",
       "      <td>600000</td>\n",
       "    </tr>\n",
       "    <tr>\n",
       "      <th>4</th>\n",
       "      <td>4.0</td>\n",
       "      <td>4.0</td>\n",
       "      <td>1.0</td>\n",
       "      <td>Single Family Home</td>\n",
       "      <td>3951.0</td>\n",
       "      <td>13503.6</td>\n",
       "      <td>799000</td>\n",
       "    </tr>\n",
       "  </tbody>\n",
       "</table>\n",
       "</div>"
      ],
      "text/plain": [
       "   bedrooms  full_bathrooms  half_bathrooms                type  size_sqft  \\\n",
       "0       3.0             2.0             1.0  Single Family Home     1992.0   \n",
       "1       3.0             2.0             0.0     Mfd/Mobile Home     1782.0   \n",
       "2       3.0             3.0             1.0  Single Family Home     1864.0   \n",
       "3       5.0             4.0             1.0  Single Family Home     4608.0   \n",
       "4       4.0             4.0             1.0  Single Family Home     3951.0   \n",
       "\n",
       "   lot_size   price  \n",
       "0    6098.0  220000  \n",
       "1    8276.0   60000  \n",
       "2    2178.0  173000  \n",
       "3   15246.0  600000  \n",
       "4   13503.6  799000  "
      ]
     },
     "execution_count": 213,
     "metadata": {},
     "output_type": "execute_result"
    }
   ],
   "source": [
    "houses.head()"
   ]
  },
  {
   "cell_type": "markdown",
   "metadata": {},
   "source": [
    "## Exploring the data for housing sales"
   ]
  },
  {
   "cell_type": "code",
   "execution_count": 214,
   "metadata": {
    "collapsed": false
   },
   "outputs": [
    {
     "data": {
      "text/plain": [
       "<matplotlib.axes._subplots.AxesSubplot at 0x1a16151d0>"
      ]
     },
     "execution_count": 214,
     "metadata": {},
     "output_type": "execute_result"
    },
    {
     "data": {
      "image/png": "[encoded data removed]",
      "text/plain": [
       "<matplotlib.figure.Figure at 0x1a161ccf8>"
      ]
     },
     "metadata": {},
     "output_type": "display_data"
    }
   ],
   "source": [
    "houses.plot.scatter(x = 'size_sqft', y = 'price')"
   ]
  },
  {
   "cell_type": "markdown",
   "metadata": {},
   "source": [
    "## Create simple regression model of size_sqft to price"
   ]
  },
  {
   "cell_type": "code",
   "execution_count": 215,
   "metadata": {
    "collapsed": false
   },
   "outputs": [],
   "source": [
    "train_data, test_data = train_test_split(houses, test_size = 0.2, random_state = 42)"
   ]
  },
  {
   "cell_type": "code",
   "execution_count": 216,
   "metadata": {
    "collapsed": false
   },
   "outputs": [
    {
     "name": "stdout",
     "output_type": "stream",
     "text": [
      "3246 812\n"
     ]
    }
   ],
   "source": [
    "print(len(train_data), len(test_data))"
   ]
  },
  {
   "cell_type": "markdown",
   "metadata": {},
   "source": [
    "## Build the regression model"
   ]
  },
  {
   "cell_type": "code",
   "execution_count": 217,
   "metadata": {
    "collapsed": false
   },
   "outputs": [
    {
     "data": {
      "text/plain": [
       "LinearRegression(copy_X=True, fit_intercept=True, n_jobs=1, normalize=False)"
      ]
     },
     "execution_count": 217,
     "metadata": {},
     "output_type": "execute_result"
    }
   ],
   "source": [
    "sqft_model = linear_model.LinearRegression()\n",
    "train_X = np.reshape(train_data['size_sqft'], (-1, 1))\n",
    "train_Y = train_data['price']\n",
    "sqft_model.fit(X = train_X, y = train_Y)"
   ]
  },
  {
   "cell_type": "markdown",
   "metadata": {},
   "source": [
    "## Evaluate the simple model"
   ]
  },
  {
   "cell_type": "markdown",
   "metadata": {},
   "source": [
    "### Define a helper function to assess model performance"
   ]
  },
  {
   "cell_type": "code",
   "execution_count": 218,
   "metadata": {
    "collapsed": true
   },
   "outputs": [],
   "source": [
    "def evaluate(model, test_X, test_y):\n",
    "    errors = model.predict(test_X) - test_y\n",
    "    return {'rmse': sqrt(np.mean(errors ** 2)), 'max_error' : errors.max()}"
   ]
  },
  {
   "cell_type": "markdown",
   "metadata": {},
   "source": [
    "### Evaluate the model using the test data"
   ]
  },
  {
   "cell_type": "code",
   "execution_count": 219,
   "metadata": {
    "collapsed": false
   },
   "outputs": [
    {
     "data": {
      "text/plain": [
       "314504.38669950736"
      ]
     },
     "execution_count": 219,
     "metadata": {},
     "output_type": "execute_result"
    }
   ],
   "source": [
    "test_X = np.reshape(test_data['size_sqft'], (-1, 1))\n",
    "test_Y = test_data['price']\n",
    "test_data['price'].mean()"
   ]
  },
  {
   "cell_type": "code",
   "execution_count": 220,
   "metadata": {
    "collapsed": false
   },
   "outputs": [
    {
     "data": {
      "text/plain": [
       "{'max_error': 2263432.3719121497, 'rmse': 323482.1202859185}"
      ]
     },
     "execution_count": 220,
     "metadata": {},
     "output_type": "execute_result"
    }
   ],
   "source": [
    "evaluate(sqft_model, test_X, test_Y)"
   ]
  },
  {
   "cell_type": "code",
   "execution_count": 221,
   "metadata": {
    "collapsed": false
   },
   "outputs": [
    {
     "data": {
      "text/plain": [
       "[<matplotlib.lines.Line2D at 0x1934c1828>,\n",
       " <matplotlib.lines.Line2D at 0x1934c3278>]"
      ]
     },
     "execution_count": 221,
     "metadata": {},
     "output_type": "execute_result"
    },
    {
     "data": {
      "image/png": "[encoded data removed]",
      "text/plain": [
       "<matplotlib.figure.Figure at 0x185a72668>"
      ]
     },
     "metadata": {},
     "output_type": "display_data"
    }
   ],
   "source": [
    "plt.plot(test_data['size_sqft'], test_data['price'], '.',\n",
    "        test_data['size_sqft'], sqft_model.predict(test_X), '-')"
   ]
  },
  {
   "cell_type": "code",
   "execution_count": 222,
   "metadata": {
    "collapsed": false
   },
   "outputs": [
    {
     "data": {
      "text/plain": [
       "array([ 363.1397523])"
      ]
     },
     "execution_count": 222,
     "metadata": {},
     "output_type": "execute_result"
    }
   ],
   "source": [
    "sqft_model.coef_"
   ]
  },
  {
   "cell_type": "code",
   "execution_count": 223,
   "metadata": {
    "collapsed": false
   },
   "outputs": [
    {
     "data": {
      "text/plain": [
       "-527679.92092623631"
      ]
     },
     "execution_count": 223,
     "metadata": {},
     "output_type": "execute_result"
    }
   ],
   "source": [
    "sqft_model.intercept_"
   ]
  },
  {
   "cell_type": "markdown",
   "metadata": {},
   "source": [
    "## Explore other features in the data"
   ]
  },
  {
   "cell_type": "code",
   "execution_count": 224,
   "metadata": {
    "collapsed": false
   },
   "outputs": [
    {
     "data": {
      "text/plain": [
       "Index(['bedrooms', 'full_bathrooms', 'half_bathrooms', 'type', 'size_sqft',\n",
       "       'lot_size', 'price'],\n",
       "      dtype='object')"
      ]
     },
     "execution_count": 224,
     "metadata": {},
     "output_type": "execute_result"
    }
   ],
   "source": [
    "houses.columns"
   ]
  },
  {
   "cell_type": "code",
   "execution_count": 225,
   "metadata": {
    "collapsed": true
   },
   "outputs": [],
   "source": [
    "my_features = ['bedrooms', 'full_bathrooms', 'half_bathrooms', 'type', 'size_sqft', 'lot_size']"
   ]
  },
  {
   "cell_type": "code",
   "execution_count": 226,
   "metadata": {
    "collapsed": false
   },
   "outputs": [
    {
     "data": {
      "text/html": [
       "<div>\n",
       "<table border=\"1\" class=\"dataframe\">\n",
       "  <thead>\n",
       "    <tr style=\"text-align: right;\">\n",
       "      <th></th>\n",
       "      <th>bedrooms</th>\n",
       "      <th>full_bathrooms</th>\n",
       "      <th>half_bathrooms</th>\n",
       "      <th>type</th>\n",
       "      <th>size_sqft</th>\n",
       "      <th>lot_size</th>\n",
       "    </tr>\n",
       "  </thead>\n",
       "  <tbody>\n",
       "    <tr>\n",
       "      <th>count</th>\n",
       "      <td>4058.000000</td>\n",
       "      <td>4058.000000</td>\n",
       "      <td>4058.000000</td>\n",
       "      <td>4058</td>\n",
       "      <td>4058.000000</td>\n",
       "      <td>4.058000e+03</td>\n",
       "    </tr>\n",
       "    <tr>\n",
       "      <th>unique</th>\n",
       "      <td>NaN</td>\n",
       "      <td>NaN</td>\n",
       "      <td>NaN</td>\n",
       "      <td>5</td>\n",
       "      <td>NaN</td>\n",
       "      <td>NaN</td>\n",
       "    </tr>\n",
       "    <tr>\n",
       "      <th>top</th>\n",
       "      <td>NaN</td>\n",
       "      <td>NaN</td>\n",
       "      <td>NaN</td>\n",
       "      <td>Single Family Home</td>\n",
       "      <td>NaN</td>\n",
       "      <td>NaN</td>\n",
       "    </tr>\n",
       "    <tr>\n",
       "      <th>freq</th>\n",
       "      <td>NaN</td>\n",
       "      <td>NaN</td>\n",
       "      <td>NaN</td>\n",
       "      <td>3317</td>\n",
       "      <td>NaN</td>\n",
       "      <td>NaN</td>\n",
       "    </tr>\n",
       "    <tr>\n",
       "      <th>mean</th>\n",
       "      <td>3.614096</td>\n",
       "      <td>2.506407</td>\n",
       "      <td>0.468457</td>\n",
       "      <td>NaN</td>\n",
       "      <td>2387.729177</td>\n",
       "      <td>2.168934e+04</td>\n",
       "    </tr>\n",
       "    <tr>\n",
       "      <th>std</th>\n",
       "      <td>1.123579</td>\n",
       "      <td>0.923808</td>\n",
       "      <td>0.556509</td>\n",
       "      <td>NaN</td>\n",
       "      <td>1462.517415</td>\n",
       "      <td>2.591895e+05</td>\n",
       "    </tr>\n",
       "    <tr>\n",
       "      <th>min</th>\n",
       "      <td>1.000000</td>\n",
       "      <td>1.000000</td>\n",
       "      <td>0.000000</td>\n",
       "      <td>NaN</td>\n",
       "      <td>325.000000</td>\n",
       "      <td>4.350000e+02</td>\n",
       "    </tr>\n",
       "    <tr>\n",
       "      <th>25%</th>\n",
       "      <td>3.000000</td>\n",
       "      <td>2.000000</td>\n",
       "      <td>0.000000</td>\n",
       "      <td>NaN</td>\n",
       "      <td>1486.000000</td>\n",
       "      <td>3.920000e+03</td>\n",
       "    </tr>\n",
       "    <tr>\n",
       "      <th>50%</th>\n",
       "      <td>4.000000</td>\n",
       "      <td>2.000000</td>\n",
       "      <td>0.000000</td>\n",
       "      <td>NaN</td>\n",
       "      <td>1979.000000</td>\n",
       "      <td>6.098000e+03</td>\n",
       "    </tr>\n",
       "    <tr>\n",
       "      <th>75%</th>\n",
       "      <td>4.000000</td>\n",
       "      <td>3.000000</td>\n",
       "      <td>1.000000</td>\n",
       "      <td>NaN</td>\n",
       "      <td>2896.000000</td>\n",
       "      <td>8.712000e+03</td>\n",
       "    </tr>\n",
       "    <tr>\n",
       "      <th>max</th>\n",
       "      <td>11.000000</td>\n",
       "      <td>12.000000</td>\n",
       "      <td>7.000000</td>\n",
       "      <td>NaN</td>\n",
       "      <td>16789.000000</td>\n",
       "      <td>9.452520e+06</td>\n",
       "    </tr>\n",
       "  </tbody>\n",
       "</table>\n",
       "</div>"
      ],
      "text/plain": [
       "           bedrooms  full_bathrooms  half_bathrooms                type  \\\n",
       "count   4058.000000     4058.000000     4058.000000                4058   \n",
       "unique          NaN             NaN             NaN                   5   \n",
       "top             NaN             NaN             NaN  Single Family Home   \n",
       "freq            NaN             NaN             NaN                3317   \n",
       "mean       3.614096        2.506407        0.468457                 NaN   \n",
       "std        1.123579        0.923808        0.556509                 NaN   \n",
       "min        1.000000        1.000000        0.000000                 NaN   \n",
       "25%        3.000000        2.000000        0.000000                 NaN   \n",
       "50%        4.000000        2.000000        0.000000                 NaN   \n",
       "75%        4.000000        3.000000        1.000000                 NaN   \n",
       "max       11.000000       12.000000        7.000000                 NaN   \n",
       "\n",
       "           size_sqft      lot_size  \n",
       "count    4058.000000  4.058000e+03  \n",
       "unique           NaN           NaN  \n",
       "top              NaN           NaN  \n",
       "freq             NaN           NaN  \n",
       "mean     2387.729177  2.168934e+04  \n",
       "std      1462.517415  2.591895e+05  \n",
       "min       325.000000  4.350000e+02  \n",
       "25%      1486.000000  3.920000e+03  \n",
       "50%      1979.000000  6.098000e+03  \n",
       "75%      2896.000000  8.712000e+03  \n",
       "max     16789.000000  9.452520e+06  "
      ]
     },
     "execution_count": 226,
     "metadata": {},
     "output_type": "execute_result"
    }
   ],
   "source": [
    "houses[my_features].describe(include = 'all')"
   ]
  },
  {
   "cell_type": "code",
   "execution_count": 227,
   "metadata": {
    "collapsed": false
   },
   "outputs": [
    {
     "data": {
      "text/plain": [
       "array([[<matplotlib.axes._subplots.AxesSubplot object at 0x13bdb3198>,\n",
       "        <matplotlib.axes._subplots.AxesSubplot object at 0x193829470>],\n",
       "       [<matplotlib.axes._subplots.AxesSubplot object at 0x186958748>,\n",
       "        <matplotlib.axes._subplots.AxesSubplot object at 0x1933045c0>],\n",
       "       [<matplotlib.axes._subplots.AxesSubplot object at 0x19322c4a8>,\n",
       "        <matplotlib.axes._subplots.AxesSubplot object at 0x192f7b668>]], dtype=object)"
      ]
     },
     "execution_count": 227,
     "metadata": {},
     "output_type": "execute_result"
    },
    {
     "data": {
      "image/png": "[encoded data removed]",
      "text/plain": [
       "<matplotlib.figure.Figure at 0x1934efd30>"
      ]
     },
     "metadata": {},
     "output_type": "display_data"
    }
   ],
   "source": [
    "houses[my_features].hist()"
   ]
  },
  {
   "cell_type": "markdown",
   "metadata": {},
   "source": [
    "Pandas only shows numerical columns by default, so the house type needs to be plotted separately"
   ]
  },
  {
   "cell_type": "code",
   "execution_count": 228,
   "metadata": {
    "collapsed": false
   },
   "outputs": [
    {
     "data": {
      "text/plain": [
       "array([[<matplotlib.axes._subplots.AxesSubplot object at 0x1928bd668>,\n",
       "        <matplotlib.axes._subplots.AxesSubplot object at 0x191f54ba8>],\n",
       "       [<matplotlib.axes._subplots.AxesSubplot object at 0x191d7c128>,\n",
       "        <matplotlib.axes._subplots.AxesSubplot object at 0x191cdf630>],\n",
       "       [<matplotlib.axes._subplots.AxesSubplot object at 0x191c27a20>,\n",
       "        <matplotlib.axes._subplots.AxesSubplot object at 0x191a29f60>]], dtype=object)"
      ]
     },
     "execution_count": 228,
     "metadata": {},
     "output_type": "execute_result"
    },
    {
     "data": {
      "image/png": "[encoded data removed]",
      "text/plain": [
       "<matplotlib.figure.Figure at 0x192878668>"
      ]
     },
     "metadata": {},
     "output_type": "display_data"
    }
   ],
   "source": [
    "houses[my_features].hist(log = True)"
   ]
  },
  {
   "cell_type": "code",
   "execution_count": 229,
   "metadata": {
    "collapsed": false
   },
   "outputs": [
    {
     "data": {
      "text/plain": [
       "<matplotlib.axes._subplots.AxesSubplot at 0x178480b70>"
      ]
     },
     "execution_count": 229,
     "metadata": {},
     "output_type": "execute_result"
    },
    {
     "data": {
      "image/png": "[encoded data removed]",
      "text/plain": [
       "<matplotlib.figure.Figure at 0x19db9c128>"
      ]
     },
     "metadata": {},
     "output_type": "display_data"
    }
   ],
   "source": [
    "houses['type'].value_counts().plot(kind='bar')"
   ]
  },
  {
   "cell_type": "code",
   "execution_count": 230,
   "metadata": {
    "collapsed": false
   },
   "outputs": [
    {
     "data": {
      "text/plain": [
       "<matplotlib.axes._subplots.AxesSubplot at 0x19db287f0>"
      ]
     },
     "execution_count": 230,
     "metadata": {},
     "output_type": "execute_result"
    },
    {
     "data": {
      "image/png": "[encoded data removed]",
      "text/plain": [
       "<matplotlib.figure.Figure at 0x19e0cb780>"
      ]
     },
     "metadata": {},
     "output_type": "display_data"
    }
   ],
   "source": [
    "houses.boxplot(column = 'price', by = 'type')"
   ]
  },
  {
   "cell_type": "code",
   "execution_count": 231,
   "metadata": {
    "collapsed": false
   },
   "outputs": [],
   "source": [
    "houses['logprice'] = np.log(houses['price'])"
   ]
  },
  {
   "cell_type": "code",
   "execution_count": 232,
   "metadata": {
    "collapsed": false
   },
   "outputs": [
    {
     "data": {
      "text/plain": [
       "<matplotlib.axes._subplots.AxesSubplot at 0x19e135f60>"
      ]
     },
     "execution_count": 232,
     "metadata": {},
     "output_type": "execute_result"
    },
    {
     "data": {
      "image/png": "[encoded data removed]",
      "text/plain": [
       "<matplotlib.figure.Figure at 0x19e17bb70>"
      ]
     },
     "metadata": {},
     "output_type": "display_data"
    }
   ],
   "source": [
    "houses.boxplot(column = 'logprice', by = 'type')"
   ]
  },
  {
   "cell_type": "markdown",
   "metadata": {},
   "source": [
    "## Build a regression model with more features"
   ]
  },
  {
   "cell_type": "code",
   "execution_count": 233,
   "metadata": {
    "collapsed": false
   },
   "outputs": [
    {
     "data": {
      "text/html": [
       "<div>\n",
       "<table border=\"1\" class=\"dataframe\">\n",
       "  <thead>\n",
       "    <tr style=\"text-align: right;\">\n",
       "      <th></th>\n",
       "      <th>bedrooms</th>\n",
       "      <th>full_bathrooms</th>\n",
       "      <th>half_bathrooms</th>\n",
       "      <th>size_sqft</th>\n",
       "      <th>lot_size</th>\n",
       "      <th>type_Condo/Townhome/Row Home/Co-Op</th>\n",
       "      <th>type_Mfd/Mobile Home</th>\n",
       "      <th>type_Multi-Family Home; Ready to build</th>\n",
       "      <th>type_Single Family Home</th>\n",
       "      <th>type_Single Family Home; Ready to build</th>\n",
       "    </tr>\n",
       "  </thead>\n",
       "  <tbody>\n",
       "    <tr>\n",
       "      <th>2685</th>\n",
       "      <td>2.0</td>\n",
       "      <td>1.0</td>\n",
       "      <td>1.0</td>\n",
       "      <td>1210.0</td>\n",
       "      <td>1306.0</td>\n",
       "      <td>1.0</td>\n",
       "      <td>0.0</td>\n",
       "      <td>0.0</td>\n",
       "      <td>0.0</td>\n",
       "      <td>0.0</td>\n",
       "    </tr>\n",
       "    <tr>\n",
       "      <th>4201</th>\n",
       "      <td>5.0</td>\n",
       "      <td>3.0</td>\n",
       "      <td>0.0</td>\n",
       "      <td>2259.0</td>\n",
       "      <td>6098.0</td>\n",
       "      <td>0.0</td>\n",
       "      <td>0.0</td>\n",
       "      <td>0.0</td>\n",
       "      <td>1.0</td>\n",
       "      <td>0.0</td>\n",
       "    </tr>\n",
       "    <tr>\n",
       "      <th>519</th>\n",
       "      <td>5.0</td>\n",
       "      <td>5.0</td>\n",
       "      <td>1.0</td>\n",
       "      <td>6810.0</td>\n",
       "      <td>14810.4</td>\n",
       "      <td>0.0</td>\n",
       "      <td>0.0</td>\n",
       "      <td>0.0</td>\n",
       "      <td>1.0</td>\n",
       "      <td>0.0</td>\n",
       "    </tr>\n",
       "    <tr>\n",
       "      <th>4100</th>\n",
       "      <td>5.0</td>\n",
       "      <td>4.0</td>\n",
       "      <td>1.0</td>\n",
       "      <td>4019.0</td>\n",
       "      <td>130680.0</td>\n",
       "      <td>0.0</td>\n",
       "      <td>0.0</td>\n",
       "      <td>0.0</td>\n",
       "      <td>0.0</td>\n",
       "      <td>1.0</td>\n",
       "    </tr>\n",
       "    <tr>\n",
       "      <th>4297</th>\n",
       "      <td>3.0</td>\n",
       "      <td>2.0</td>\n",
       "      <td>1.0</td>\n",
       "      <td>1465.0</td>\n",
       "      <td>87120.0</td>\n",
       "      <td>0.0</td>\n",
       "      <td>0.0</td>\n",
       "      <td>0.0</td>\n",
       "      <td>0.0</td>\n",
       "      <td>1.0</td>\n",
       "    </tr>\n",
       "  </tbody>\n",
       "</table>\n",
       "</div>"
      ],
      "text/plain": [
       "      bedrooms  full_bathrooms  half_bathrooms  size_sqft  lot_size  \\\n",
       "2685       2.0             1.0             1.0     1210.0    1306.0   \n",
       "4201       5.0             3.0             0.0     2259.0    6098.0   \n",
       "519        5.0             5.0             1.0     6810.0   14810.4   \n",
       "4100       5.0             4.0             1.0     4019.0  130680.0   \n",
       "4297       3.0             2.0             1.0     1465.0   87120.0   \n",
       "\n",
       "      type_Condo/Townhome/Row Home/Co-Op  type_Mfd/Mobile Home  \\\n",
       "2685                                 1.0                   0.0   \n",
       "4201                                 0.0                   0.0   \n",
       "519                                  0.0                   0.0   \n",
       "4100                                 0.0                   0.0   \n",
       "4297                                 0.0                   0.0   \n",
       "\n",
       "      type_Multi-Family Home; Ready to build  type_Single Family Home  \\\n",
       "2685                                     0.0                      0.0   \n",
       "4201                                     0.0                      1.0   \n",
       "519                                      0.0                      1.0   \n",
       "4100                                     0.0                      0.0   \n",
       "4297                                     0.0                      0.0   \n",
       "\n",
       "      type_Single Family Home; Ready to build  \n",
       "2685                                      0.0  \n",
       "4201                                      0.0  \n",
       "519                                       0.0  \n",
       "4100                                      1.0  \n",
       "4297                                      1.0  "
      ]
     },
     "execution_count": 233,
     "metadata": {},
     "output_type": "execute_result"
    }
   ],
   "source": [
    "train_with_dummies = pd.get_dummies(train_data[my_features])\n",
    "test_with_dummies = pd.get_dummies(test_data[my_features])\n",
    "train_with_dummies.head()"
   ]
  },
  {
   "cell_type": "code",
   "execution_count": 235,
   "metadata": {
    "collapsed": false
   },
   "outputs": [
    {
     "data": {
      "text/plain": [
       "LinearRegression(copy_X=True, fit_intercept=True, n_jobs=1, normalize=False)"
      ]
     },
     "execution_count": 235,
     "metadata": {},
     "output_type": "execute_result"
    }
   ],
   "source": [
    "my_features_model = linear_model.LinearRegression()\n",
    "my_features_model.fit(X = train_with_dummies, y = train_Y)"
   ]
  },
  {
   "cell_type": "code",
   "execution_count": 236,
   "metadata": {
    "collapsed": false
   },
   "outputs": [
    {
     "data": {
      "text/plain": [
       "{'max_error': 2685464.2433413896, 'rmse': 306374.2678860222}"
      ]
     },
     "execution_count": 236,
     "metadata": {},
     "output_type": "execute_result"
    }
   ],
   "source": [
    "evaluate(my_features_model, test_with_dummies, test_Y)"
   ]
  },
  {
   "cell_type": "code",
   "execution_count": 237,
   "metadata": {
    "collapsed": false
   },
   "outputs": [
    {
     "data": {
      "text/plain": [
       "{'max_error': 2263432.3719121497, 'rmse': 323482.1202859185}"
      ]
     },
     "execution_count": 237,
     "metadata": {},
     "output_type": "execute_result"
    }
   ],
   "source": [
    "evaluate(sqft_model, test_X, test_Y)"
   ]
  }
 ],
 "metadata": {
  "anaconda-cloud": {},
  "kernelspec": {
   "display_name": "Python [conda root]",
   "language": "python",
   "name": "conda-root-py"
  },
  "language_info": {
   "codemirror_mode": {
    "name": "ipython",
    "version": 3
   },
   "file_extension": ".py",
   "mimetype": "text/x-python",
   "name": "python",
   "nbconvert_exporter": "python",
   "pygments_lexer": "ipython3",
   "version": "3.5.2"
  }
 },
 "nbformat": 4,
 "nbformat_minor": 1
}
